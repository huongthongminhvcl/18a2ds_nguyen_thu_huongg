{
 "cells": [
  {
   "cell_type": "markdown",
   "id": "cabb3d67",
   "metadata": {},
   "source": [
    "# Bài 1:HÌNH CHỮ NHẬT\n",
    "\n"
   ]
  },
  {
   "cell_type": "code",
   "execution_count": 8,
   "id": "9fd55bec",
   "metadata": {},
   "outputs": [],
   "source": [
    "class Hinhchunhat:\n",
    "    def __init__(self,dai=0,rong=0):\n",
    "        self.dai = dai\n",
    "        self.rong = rong\n",
    "    def tinh_chu_vi(self):\n",
    "        return 2*(self.dai + self.rong) \n",
    "    def tinh_dien_tich(self):\n",
    "        return self.dai * self.rong\n",
    "    def hien_thi(self):\n",
    "        print:(f\"chiều dài:{self.dai}\")\n",
    "        print:(f\"chiều rộng:{self.rong}\")\n",
    "        print:(f\"chu vi:{self.tinh_chu_vi()}\")\n",
    "        print:(f\"diện tích:{self.tinh_dien_tich()}\")\n"
   ]
  },
  {
   "cell_type": "code",
   "execution_count": 12,
   "id": "c38d1e97",
   "metadata": {},
   "outputs": [
    {
     "name": "stdout",
     "output_type": "stream",
     "text": [
      "Bài 1: Hình Chữ Nhật\n"
     ]
    }
   ],
   "source": [
    "print (\"Bài 1: Hình Chữ Nhật\")\n",
    "hcn = Hinhchunhat (5,3)\n",
    "hcn.hien_thi()"
   ]
  },
  {
   "cell_type": "markdown",
   "id": "db84eabb",
   "metadata": {},
   "source": [
    "Bài 2"
   ]
  },
  {
   "cell_type": "code",
   "execution_count": 3,
   "id": "34454989",
   "metadata": {},
   "outputs": [],
   "source": [
    "class Thisinh:\n",
    "    def _init_(self,ho_ten,toan,ly,hoa):\n",
    "        self.ho_ten=ho_ten\n",
    "        self.toan=toan\n",
    "        self.ly=ly\n",
    "        self.hoa=hoa\n",
    "    \n",
    "    def tong_diem (self):\n",
    "        return self.toan + self.ly + self.hoa \n",
    "    def hien_thi(self):\n",
    "        print(f\"Họ tên:{self.ho_ten}\")\n",
    "        print(f\" Điểm toán:{self.toan}, lý:{self.ly},hóa:{self.hoa}\")\n",
    "        print(f\"Tổng điểm:{self.tong_diem()}\")\n",
    "        "
   ]
  },
  {
   "cell_type": "code",
   "execution_count": 2,
   "id": "0f200cb1",
   "metadata": {},
   "outputs": [
    {
     "name": "stdout",
     "output_type": "stream",
     "text": [
      "\n",
      "=== BÀI 2: DANH SÁCH THÍ SINH ===\n"
     ]
    },
    {
     "ename": "NameError",
     "evalue": "name 'Thisinh' is not defined",
     "output_type": "error",
     "traceback": [
      "\u001b[31m---------------------------------------------------------------------------\u001b[39m",
      "\u001b[31mNameError\u001b[39m                                 Traceback (most recent call last)",
      "\u001b[36mCell\u001b[39m\u001b[36m \u001b[39m\u001b[32mIn[2]\u001b[39m\u001b[32m, line 3\u001b[39m\n\u001b[32m      1\u001b[39m \u001b[38;5;28mprint\u001b[39m(\u001b[33m\"\u001b[39m\u001b[38;5;130;01m\\n\u001b[39;00m\u001b[33m=== BÀI 2: DANH SÁCH THÍ SINH ===\u001b[39m\u001b[33m\"\u001b[39m)\n\u001b[32m      2\u001b[39m danh_sach = [\n\u001b[32m----> \u001b[39m\u001b[32m3\u001b[39m     \u001b[43mThisinh\u001b[49m(\u001b[33m\"\u001b[39m\u001b[33mNguyen Van A\u001b[39m\u001b[33m\"\u001b[39m, \u001b[32m8\u001b[39m, \u001b[32m7\u001b[39m, \u001b[32m6\u001b[39m),\n\u001b[32m      4\u001b[39m     Thisinh(\u001b[33m\"\u001b[39m\u001b[33mTran Thi B\u001b[39m\u001b[33m\"\u001b[39m, \u001b[32m5\u001b[39m, \u001b[32m5\u001b[39m, \u001b[32m6\u001b[39m),\n\u001b[32m      5\u001b[39m     Thisinh(\u001b[33m\"\u001b[39m\u001b[33mLe Van C\u001b[39m\u001b[33m\"\u001b[39m, \u001b[32m9\u001b[39m, \u001b[32m8\u001b[39m, \u001b[32m7\u001b[39m)\n\u001b[32m      6\u001b[39m ]\n\u001b[32m      7\u001b[39m \u001b[38;5;28;01mfor\u001b[39;00m ts \u001b[38;5;129;01min\u001b[39;00m danh_sach:\n\u001b[32m      8\u001b[39m     ts.hien_thi()\n",
      "\u001b[31mNameError\u001b[39m: name 'Thisinh' is not defined"
     ]
    }
   ],
   "source": [
    "print(\"\\n=== BÀI 2: DANH SÁCH THÍ SINH ===\")\n",
    "danh_sach = [\n",
    "    Thisinh(\"Nguyen Van A\", 8, 7, 6),\n",
    "    Thisinh(\"Tran Thi B\", 5, 5, 6),\n",
    "    Thisinh(\"Le Van C\", 9, 8, 7)\n",
    "]\n",
    "for ts in danh_sach:\n",
    "    ts.hien_thi()\n",
    "    print(\"-\")"
   ]
  },
  {
   "cell_type": "markdown",
   "id": "9a19d653",
   "metadata": {},
   "source": [
    "Bài 3"
   ]
  },
  {
   "cell_type": "code",
   "execution_count": null,
   "id": "0d3475ae",
   "metadata": {},
   "outputs": [],
   "source": [
    "class Phanso:\n",
    "    def _init_ (self,tu=0,mau=1):\n",
    "        self.tu=tu\n",
    "        self.mau=mau\n",
    "    def kiem_tra_hop_le(self):\n",
    "        return self.mau != 0\n",
    "    def nhap(self):\n",
    "        self.tu=int(input(\"Nhập tử số:\"))\n",
    "        self.mau=int(input(\"Nhập mẫu số:\"))\n",
    "        while not self.kiem_tra_hop_le():\n",
    "            print(\"mẫu số phải khác 0!nhập lại.\")\n",
    "            self.mau=int(input(\"Nhập mẫu số:\"))\n",
    "    \n",
    "    def _str_(self):\n",
    "        return \n",
    "\n",
    "        \n",
    "\n",
    "\n",
    "\n",
    "\n",
    "\n"
   ]
  }
 ],
 "metadata": {
  "kernelspec": {
   "display_name": "Python 3",
   "language": "python",
   "name": "python3"
  },
  "language_info": {
   "codemirror_mode": {
    "name": "ipython",
    "version": 3
   },
   "file_extension": ".py",
   "mimetype": "text/x-python",
   "name": "python",
   "nbconvert_exporter": "python",
   "pygments_lexer": "ipython3",
   "version": "3.13.7"
  }
 },
 "nbformat": 4,
 "nbformat_minor": 5
}
